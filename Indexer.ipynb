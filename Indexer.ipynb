{
  "cells": [
    {
      "cell_type": "markdown",
      "metadata": {
        "id": "view-in-github",
        "colab_type": "text"
      },
      "source": [
        "<a href=\"https://colab.research.google.com/github/OmriMan/Search-Engine-Wiki/blob/master/Indexer.ipynb\" target=\"_parent\"><img src=\"https://colab.research.google.com/assets/colab-badge.svg\" alt=\"Open In Colab\"/></a>"
      ]
    },
    {
      "cell_type": "code",
      "execution_count": 1,
      "metadata": {
        "colab": {
          "base_uri": "https://localhost:8080/"
        },
        "id": "2AX-vouwYcKZ",
        "outputId": "44863b3c-4706-4ce1-e8e3-e13a8151a537"
      },
      "outputs": [
        {
          "output_type": "stream",
          "name": "stdout",
          "text": [
            "[nltk_data] Downloading package stopwords to /root/nltk_data...\n",
            "[nltk_data]   Package stopwords is already up-to-date!\n"
          ]
        }
      ],
      "source": [
        "import sys\n",
        "from collections import Counter, OrderedDict\n",
        "import itertools\n",
        "from itertools import islice, count, groupby\n",
        "import pandas as pd\n",
        "import os\n",
        "import re\n",
        "from operator import itemgetter\n",
        "import nltk\n",
        "from nltk.stem.porter import *\n",
        "from nltk.corpus import stopwords\n",
        "from time import time\n",
        "from timeit import timeit\n",
        "from pathlib import Path\n",
        "import pickle\n",
        "import pandas as pd\n",
        "import numpy as np\n",
        "from google.cloud import storage\n",
        "\n",
        "import hashlib\n",
        "def _hash(s):\n",
        "    return hashlib.blake2b(bytes(s, encoding='utf8'), digest_size=5).hexdigest()\n",
        "\n",
        "nltk.download('stopwords')\n",
        "\n",
        "from inverted_index_colab import *"
      ]
    },
    {
      "cell_type": "code",
      "execution_count": 2,
      "metadata": {
        "colab": {
          "base_uri": "https://localhost:8080/"
        },
        "id": "kw33QgujFQez",
        "outputId": "e5a6d416-f685-4e00-bf0f-c5c7d3a16c1d"
      },
      "outputs": [
        {
          "output_type": "stream",
          "name": "stdout",
          "text": [
            "Hit:1 https://cloud.r-project.org/bin/linux/ubuntu bionic-cran40/ InRelease\n",
            "Ign:2 https://developer.download.nvidia.com/compute/cuda/repos/ubuntu1804/x86_64  InRelease\n",
            "Hit:3 http://security.ubuntu.com/ubuntu bionic-security InRelease\n",
            "Ign:4 https://developer.download.nvidia.com/compute/machine-learning/repos/ubuntu1804/x86_64  InRelease\n",
            "Hit:5 https://developer.download.nvidia.com/compute/cuda/repos/ubuntu1804/x86_64  Release\n",
            "Hit:6 https://developer.download.nvidia.com/compute/machine-learning/repos/ubuntu1804/x86_64  Release\n",
            "Hit:7 http://ppa.launchpad.net/c2d4u.team/c2d4u4.0+/ubuntu bionic InRelease\n",
            "Hit:8 http://archive.ubuntu.com/ubuntu bionic InRelease\n",
            "Hit:9 http://archive.ubuntu.com/ubuntu bionic-updates InRelease\n",
            "Hit:10 http://ppa.launchpad.net/cran/libgit2/ubuntu bionic InRelease\n",
            "Hit:11 http://archive.ubuntu.com/ubuntu bionic-backports InRelease\n",
            "Hit:13 http://ppa.launchpad.net/deadsnakes/ppa/ubuntu bionic InRelease\n",
            "Hit:15 http://ppa.launchpad.net/graphics-drivers/ppa/ubuntu bionic InRelease\n",
            "Reading package lists... Done\n",
            "openjdk-8-jdk-headless is already the newest version (8u312-b07-0ubuntu1~18.04).\n",
            "0 upgraded, 0 newly installed, 0 to remove and 100 not upgraded.\n",
            "--2022-01-03 07:49:43--  https://repos.spark-packages.org/graphframes/graphframes/0.8.2-spark3.2-s_2.12/graphframes-0.8.2-spark3.2-s_2.12.jar\n",
            "Resolving repos.spark-packages.org (repos.spark-packages.org)... 13.226.124.26, 13.226.124.67, 13.226.124.87, ...\n",
            "Connecting to repos.spark-packages.org (repos.spark-packages.org)|13.226.124.26|:443... connected.\n",
            "HTTP request sent, awaiting response... 304 Not Modified\n",
            "File ‘/usr/local/lib/python3.7/dist-packages/pyspark/jars/graphframes-0.8.2-spark3.2-s_2.12.jar’ not modified on server. Omitting download.\n",
            "\n"
          ]
        }
      ],
      "source": [
        "# These will already be installed in the testing environment so disregard the \n",
        "# amount of time (~1 minute) it takes to install. \n",
        "!pip install -q pyspark\n",
        "!pip install -U -q PyDrive\n",
        "!apt-get update\n",
        "!apt install openjdk-8-jdk-headless -qq\n",
        "!pip install -q graphframes\n",
        "import os\n",
        "os.environ[\"JAVA_HOME\"] = \"/usr/lib/jvm/java-8-openjdk-amd64\"\n",
        "graphframes_jar = 'https://repos.spark-packages.org/graphframes/graphframes/0.8.2-spark3.2-s_2.12/graphframes-0.8.2-spark3.2-s_2.12.jar'\n",
        "spark_jars = '/usr/local/lib/python3.7/dist-packages/pyspark/jars'\n",
        "!wget -N -P $spark_jars $graphframes_jar"
      ]
    },
    {
      "cell_type": "code",
      "execution_count": 3,
      "metadata": {
        "id": "BkEErqJnsXyy"
      },
      "outputs": [],
      "source": [
        "import pyspark\n",
        "from pyspark.sql import *\n",
        "from pyspark.sql.functions import *\n",
        "from pyspark import SparkContext, SparkConf\n",
        "from pyspark.sql import SQLContext\n",
        "from pyspark.ml.feature import Tokenizer, RegexTokenizer\n",
        "from graphframes import *"
      ]
    },
    {
      "cell_type": "code",
      "execution_count": 4,
      "metadata": {
        "id": "OgiSewKAsgKd"
      },
      "outputs": [],
      "source": [
        "# Initializing spark context\n",
        "# create a spark context and session\n",
        "conf = SparkConf().set(\"spark.ui.port\", \"4050\")\n",
        "sc = pyspark.SparkContext(conf=conf)\n",
        "sc.addPyFile(str(Path(spark_jars) / Path(graphframes_jar).name))\n",
        "spark = SparkSession.builder.getOrCreate()"
      ]
    },
    {
      "cell_type": "code",
      "execution_count": 5,
      "metadata": {
        "id": "DkdjBm5DOVWX"
      },
      "outputs": [],
      "source": [
        "# Authenticate your user\n",
        "# The authentication should be done with the email connected to your GCP account\n",
        "from google.colab import auth\n",
        "auth.authenticate_user()"
      ]
    },
    {
      "cell_type": "code",
      "execution_count": 6,
      "metadata": {
        "colab": {
          "base_uri": "https://localhost:8080/"
        },
        "id": "vDuikxFbN9B7",
        "outputId": "3bc26f84-1f81-40a5-9f11-92d3fab2ab60"
      },
      "outputs": [
        {
          "output_type": "stream",
          "name": "stdout",
          "text": [
            "Updated property [core/project].\n",
            "\u001b[1;33mWARNING:\u001b[0m You do not appear to have access to project [core-period-321814] or it does not exist.\n",
            "mkdir: cannot create directory ‘wikidumps’: File exists\n",
            "Copying gs://wikidata_preprocessed/multistream1_preprocessed.parquet...\n",
            "- [1 files][316.7 MiB/316.7 MiB]                                                \n",
            "Operation completed over 1 objects/316.7 MiB.                                    \n"
          ]
        }
      ],
      "source": [
        "# Copy one wikidumps files \n",
        "import os\n",
        "from pathlib import Path\n",
        "from google.colab import auth\n",
        "\n",
        "project_id = 'core-period-321814'\n",
        "!gcloud config set project {project_id}\n",
        "\n",
        "data_bucket_name = 'wikidata_preprocessed'\n",
        "try:\n",
        "    if os.environ[\"wikidata_preprocessed\"] is not None:\n",
        "        pass  \n",
        "except:\n",
        "      !mkdir wikidumps\n",
        "      !gsutil cp gs://{data_bucket_name}/multistream1_preprocessed.parquet \"wikidumps/\" \n"
      ]
    },
    {
      "cell_type": "code",
      "execution_count": 7,
      "metadata": {
        "colab": {
          "base_uri": "https://localhost:8080/"
        },
        "id": "24AI2jXgOuVN",
        "outputId": "41cb1b5c-b3c6-45c6-f2d8-395207d9361c"
      },
      "outputs": [
        {
          "output_type": "stream",
          "name": "stdout",
          "text": [
            "+---+--------------------+--------------------+--------------------+\n",
            "| id|               title|                text|         anchor_text|\n",
            "+---+--------------------+--------------------+--------------------+\n",
            "| 12|           Anarchism|'''Anarchism''' i...|[{23040, politica...|\n",
            "| 25|              Autism|'''Autism''' is a...|[{492271, Clinica...|\n",
            "| 39|              Albedo|thumb|upright=1.3...|[{679294, diffuse...|\n",
            "|290|                   A|'''A''', or '''a'...|[{290, See below}...|\n",
            "|303|             Alabama|'''Alabama''' () ...|[{351590, Yellowh...|\n",
            "|305|            Achilles|thumb|260px|Ancie...|[{1076007, potter...|\n",
            "|307|     Abraham Lincoln|'''Abraham Lincol...|[{1827174, Alexan...|\n",
            "|308|           Aristotle|'''Aristotle''' (...|[{1389981, bust},...|\n",
            "|309|An American in Paris|'''''An American ...|[{13066, George G...|\n",
            "|316|Academy Award for...|The '''Academy Aw...|[{39842, Academy ...|\n",
            "|324|      Academy Awards|The '''Academy Aw...|[{649481, film in...|\n",
            "|330|             Actrius|'''''Actresses'''...|[{5282, Catalan},...|\n",
            "|332|     Animalia (book)|'''''Animalia''''...|[{2511084, Graeme...|\n",
            "|334|International Ato...|'''International ...|[{25453985, atomi...|\n",
            "|336|            Altruism|thumb|Giving alms...|[{657573, alms}, ...|\n",
            "|339|            Ayn Rand|'''Alice O'Connor...|[{24320051, St. P...|\n",
            "|340|        Alain Connes|'''Alain Connes''...|[{1201522, Dragui...|\n",
            "|344|          Allan Dwan|'''Allan Dwan''' ...|[{64646, Toronto}...|\n",
            "|358|             Algeria|'''Algeria''', of...|[{803, Arabic}, {...|\n",
            "|359|List of Atlas Shr...|This is a list of...|[{339, Ayn Rand},...|\n",
            "+---+--------------------+--------------------+--------------------+\n",
            "only showing top 20 rows\n",
            "\n"
          ]
        }
      ],
      "source": [
        "from pathlib import Path \n",
        "import os\n",
        "\n",
        "try:\n",
        "    if os.environ[\"wikidata_preprocessed\"] is not None:\n",
        "      path = os.environ[\"wikidata_preprocessed\"]+\"/wikidumps/*\"\n",
        "except:\n",
        "      path = \"wikidumps/*\"\n",
        "\n",
        "parquetFile = spark.read.parquet(path)\n",
        "parquetFile.show()"
      ]
    },
    {
      "cell_type": "code",
      "execution_count": 8,
      "metadata": {
        "id": "KMcsrc8RO9kn"
      },
      "outputs": [],
      "source": [
        "from pyspark.sql.types import StructType,StructField, StringType\n",
        "\n",
        "doc_text_pairs = parquetFile.limit(1000).select(\"text\", \"id\").rdd\n",
        "doc_title_pairs = parquetFile.limit(1000).select(\"title\", \"id\").rdd\n",
        "\n",
        "# doc_anchor_text_pairs = parquetFile.limit(1000).select(\"anchor_text\", \"id\")\n",
        "# #TODO: elbaz kapara alich tichtuv tiod be flemit\n",
        "# anchor_list=[]\n",
        "# for i in doc_anchor_text_pairs.collect():\n",
        "#   anchor_as_string=''\n",
        "#   for j in i.anchor_text:\n",
        "#     anchor_as_string = anchor_as_string +' ' + j[1]\n",
        "#   anchor_list.append((anchor_as_string,i.id))\n",
        "\n",
        "# doc_anchor_text_pairs = spark.createDataFrame(data=anchor_list, schema = [\"anchor_text\",\"id\"])\n",
        "# doc_anchor_text_pairs=doc_anchor_text_pairs.rdd\n",
        "\n",
        "  \n",
        "\n"
      ]
    },
    {
      "cell_type": "code",
      "execution_count": 9,
      "metadata": {
        "id": "9GmPedzexLyt"
      },
      "outputs": [],
      "source": [
        "english_stopwords = frozenset(stopwords.words('english'))\n",
        "corpus_stopwords = ['category', 'references', 'also', 'links', 'extenal', 'see', 'thumb']\n",
        "RE_WORD = re.compile(r\"\"\"[\\#\\@\\w](['\\-]?\\w){2,24}\"\"\", re.UNICODE)\n",
        "\n",
        "all_stopwords = english_stopwords.union(corpus_stopwords)\n",
        "\n",
        "def word_count(text, id, rmv_stopwords=True):\n",
        "  ''' Count the frequency of each word in `text` (tf) that is not included in \n",
        "  `all_stopwords` and return entries that will go into our posting lists. \n",
        "  Parameters:\n",
        "  -----------\n",
        "    text: str\n",
        "      Text of one document\n",
        "    id: int\n",
        "      Document id\n",
        "  Returns:\n",
        "  --------\n",
        "    List of tuples\n",
        "      A list of (token, (doc_id, tf)) pairs \n",
        "      for example: [(\"Anarchism\", (12, 5)), ...]\n",
        "  '''\n",
        "  tokens = [token.group() for token in RE_WORD.finditer(text.lower())]\n",
        "  result = []\n",
        "  if rmv_stopwords:\n",
        "    counter = Counter([i for i in tokens if i not in all_stopwords])\n",
        "  else:\n",
        "    counter = Counter([i for i in tokens])\n",
        "    \n",
        "  for key,val in counter.items():\n",
        "    tup_to_append = (key, (id, val))\n",
        "    result.append(tup_to_append)\n",
        "    \n",
        "  return result"
      ]
    },
    {
      "cell_type": "code",
      "execution_count": 10,
      "metadata": {
        "id": "g3DUXXzxsy-B"
      },
      "outputs": [],
      "source": [
        "word_counts_text = doc_text_pairs.flatMap(lambda x: word_count(x[0], x[1], True))\n",
        "word_counts_title = doc_title_pairs.flatMap(lambda x: word_count(x[0], x[1], False))\n",
        "#word_counts_anchor = doc_anchor_text_pairs.flatMap(lambda x: word_count(x[0], x[1], False))"
      ]
    },
    {
      "cell_type": "code",
      "execution_count": 11,
      "metadata": {
        "id": "1yFhHQBZHIBb"
      },
      "outputs": [],
      "source": [
        "def reduce_word_counts(unsorted_pl):\n",
        "  ''' Returns a sorted posting list by wiki_id.\n",
        "  Parameters:\n",
        "  -----------\n",
        "    unsorted_pl: list of tuples\n",
        "      A list of (wiki_id, tf) tuples \n",
        "  Returns:\n",
        "  --------\n",
        "    list of tuples\n",
        "      A sorted posting list.\n",
        "  '''\n",
        "  return sorted(unsorted_pl)\n",
        "  \n",
        "\n",
        "  "
      ]
    },
    {
      "cell_type": "code",
      "execution_count": 12,
      "metadata": {
        "id": "-VWkWnUO_QKd"
      },
      "outputs": [],
      "source": [
        "postings_text = word_counts_text.groupByKey().mapValues(reduce_word_counts)\n",
        "postings_title = word_counts_title.groupByKey().mapValues(reduce_word_counts)\n",
        "#posting_anchor_text = word_counts_anchor.groupByKey().mapValues(reduce_word_counts)"
      ]
    },
    {
      "cell_type": "code",
      "execution_count": 13,
      "metadata": {
        "id": "J_-UoG2CGj4o"
      },
      "outputs": [],
      "source": [
        "def calculate_df(postings):\n",
        "  ''' Takes a posting list RDD and calculate the df for each token.\n",
        "  Parameters:\n",
        "  -----------\n",
        "    postings: RDD\n",
        "      An RDD where each element is a (token, posting_list) pair.\n",
        "  Returns:\n",
        "  --------\n",
        "    RDD\n",
        "      An RDD where each element is a (token, df) pair.\n",
        "  '''\n",
        "  result = postings.map(lambda x : (x[0], len(x[1])))\n",
        "  return result\n"
      ]
    },
    {
      "cell_type": "code",
      "execution_count": 14,
      "metadata": {
        "id": "fzM3BbhTibra"
      },
      "outputs": [],
      "source": [
        "postings_filtered_text = postings_text.filter(lambda x: len(x[1])>10)\n",
        "postings_filtered_title = postings_title.filter(lambda x: len(x[1])>10)\n",
        "#postings_filtered_anchor_text = posting_anchor_text.filter(lambda x: len(x[1])>10)\n",
        "\n",
        "text_df = calculate_df(postings_filtered_text)\n",
        "title_df = calculate_df(postings_filtered_title)\n",
        "#anchor_text_df = calculate_df(postings_filtered_anchor_text)\n",
        "\n",
        "w2df_dict_text = text_df.collectAsMap()\n",
        "w2df_dict_title = title_df.collectAsMap()\n",
        "#w2df_dict_anchor_text = anchor_text_df.collectAsMap()\n"
      ]
    },
    {
      "cell_type": "code",
      "execution_count": 15,
      "metadata": {
        "id": "MvZDJk0bu9V9"
      },
      "outputs": [],
      "source": [
        "NUM_BUCKETS = 124\n",
        "def token2bucket_id(token):\n",
        "  return int(_hash(token),16) % NUM_BUCKETS\n",
        "\n",
        "def partition_postings_and_write(postings):\n",
        "  ''' A function that partitions the posting lists into buckets, writes out \n",
        "  all posting lists in a bucket to disk, and returns the posting locations for \n",
        "  each bucket. Partitioning should be done through the use of `token2bucket` \n",
        "  above. Writing to disk should use the function  `write_a_posting_list`, a \n",
        "  static method implemented in inverted_index_colab.py under the InvertedIndex \n",
        "  class. \n",
        "  Parameters:\n",
        "  -----------\n",
        "    postings: RDD\n",
        "      An RDD where each item is a (w, posting_list) pair.\n",
        "  Returns:\n",
        "  --------\n",
        "    RDD\n",
        "      An RDD where each item is a posting locations dictionary for a bucket. The\n",
        "      posting locations maintain a list for each word of file locations and \n",
        "      offsets its posting list was written to. See `write_a_posting_list` for \n",
        "      more details.\n",
        "  '''\n",
        "  result_before_grouping = postings.map(lambda x : (token2bucket_id(x[0]), x))\n",
        "  result_after_grouping = result_before_grouping.groupByKey()\n",
        "  return result_after_grouping.map(InvertedIndex.write_a_posting_list)\n",
        "  \n",
        "  \n"
      ]
    },
    {
      "cell_type": "code",
      "execution_count": 16,
      "metadata": {
        "id": "xs-6Sa-qjKbw"
      },
      "outputs": [],
      "source": [
        "posting_locs_list_text = partition_postings_and_write(postings_filtered_text).collect()\n",
        "posting_locs_list_title = partition_postings_and_write(postings_filtered_title).collect()\n",
        "#posting_locs_list_anchor_text = partition_postings_and_write(postings_filtered_anchor_text).collect()"
      ]
    },
    {
      "cell_type": "code",
      "execution_count": 17,
      "metadata": {
        "id": "C-h5dgtF-TeL"
      },
      "outputs": [],
      "source": [
        "# merge the posting locations into a single dict and run more tests (5 points)\n",
        "super_posting_locs_text = defaultdict(list)\n",
        "for posting_loc in posting_locs_list_text:\n",
        "  for k, v in posting_loc.items():\n",
        "    super_posting_locs_text[k].extend(v)\n",
        "\n",
        "super_posting_locs_title = defaultdict(list)\n",
        "for posting_loc in posting_locs_list_title:\n",
        "  for k, v in posting_loc.items():\n",
        "    super_posting_locs_title[k].extend(v)\n",
        "\n",
        "# super_posting_locs_anchor_text = defaultdict(list)\n",
        "# for posting_loc in posting_locs_list_anchor_text:\n",
        "#   for k, v in posting_loc.items():\n",
        "#     super_posting_locs_anchor_text[k].extend(v)\n"
      ]
    },
    {
      "cell_type": "code",
      "execution_count": 18,
      "metadata": {
        "id": "VKrew8cUAyTz"
      },
      "outputs": [],
      "source": [
        "# Create inverted index instance for text\n",
        "inverted_text = InvertedIndex()\n",
        "# Adding the posting locations dictionary to the inverted index\n",
        "inverted_text.posting_locs = super_posting_locs_text\n",
        "# Add the token - df dictionary to the inverted index\n",
        "inverted_text.df = w2df_dict_text\n",
        "# write the global stats out\n",
        "inverted_text.write_index('.', 'index')\n",
        "\n",
        "\n",
        "# Create inverted index instance for title\n",
        "inverted_title = InvertedIndex()\n",
        "# Adding the posting locations dictionary to the inverted index\n",
        "inverted_title.posting_locs = super_posting_locs_title\n",
        "# Add the token - df dictionary to the inverted index\n",
        "inverted_title.df = w2df_dict_title\n",
        "# write the global stats out\n",
        "inverted_title.write_index('.', 'index')\n",
        "\n",
        "# # Create inverted index instance for title\n",
        "# inverted_anchor_text = InvertedIndex()\n",
        "# # Adding the posting locations dictionary to the inverted index\n",
        "# inverted_anchor_text.posting_locs = super_posting_locs_anchor_text\n",
        "# # Add the token - df dictionary to the inverted index\n",
        "# inverted_anchor_text.df = w2df_dict_anchor_text\n",
        "# # write the global stats out\n",
        "# inverted_anchor_text.write_index('.', 'index')"
      ]
    },
    {
      "cell_type": "code",
      "execution_count": 19,
      "metadata": {
        "id": "j2_qt2IPkxqz"
      },
      "outputs": [],
      "source": [
        "TUPLE_SIZE = 6       \n",
        "TF_MASK = 2 ** 16 - 1 # Masking the 16 low bits of an integer\n",
        "from contextlib import closing\n",
        "\n",
        "def read_posting_list(inverted, w):\n",
        "  with closing(MultiFileReader()) as reader:\n",
        "    locs = inverted.posting_locs[w]\n",
        "    b = reader.read(locs, inverted.df[w] * TUPLE_SIZE)\n",
        "    posting_list = []\n",
        "    for i in range(inverted.df[w]):\n",
        "      doc_id = int.from_bytes(b[i*TUPLE_SIZE:i*TUPLE_SIZE+4], 'big')\n",
        "      tf = int.from_bytes(b[i*TUPLE_SIZE+4:(i+1)*TUPLE_SIZE], 'big')\n",
        "      posting_list.append((doc_id, tf))\n",
        "    return posting_list"
      ]
    },
    {
      "cell_type": "code",
      "execution_count": 20,
      "metadata": {
        "colab": {
          "base_uri": "https://localhost:8080/"
        },
        "id": "VF6gfVFSIzM6",
        "outputId": "1ff0f95f-9eb4-4b5c-f430-f13d2194d8dd"
      },
      "outputs": [
        {
          "output_type": "stream",
          "name": "stdout",
          "text": [
            "[(573, 1), (593, 1), (653, 1), (752, 1), (852, 1), (874, 1), (1130, 1), (1171, 1), (1500, 1), (1525, 1), (1814, 1), (2032, 1), (2144, 1), (2161, 1), (2195, 1), (2204, 2), (2303, 1), (2414, 1)]\n"
          ]
        }
      ],
      "source": [
        "## test the final index\n",
        "pl = read_posting_list(inverted_text, 'clarity')\n",
        "print(pl)\n",
        "\n",
        "# pl1 = read_posting_list(inverted_anchor_text, 'political')\n",
        "# print(pl1)"
      ]
    },
    {
      "cell_type": "code",
      "source": [
        "doc_anchor_text_pairs = parquetFile.limit(1000).select(\"anchor_text\", \"id\")\n",
        "#TODO: elbaz kapara alich tichtuv tiod be flemit\n",
        "anchor_list=[]\n",
        "for i in doc_anchor_text_pairs.collect():\n",
        "  anchor_as_string=''\n",
        "  for j in i.anchor_text:\n",
        "    anchor_as_string = anchor_as_string +' ' + j[1]\n",
        "  anchor_list.append((anchor_as_string,i.id))\n",
        "\n",
        "doc_anchor_text_pairs = spark.createDataFrame(data=anchor_list, schema = [\"anchor_text\",\"id\"])\n",
        "doc_anchor_text_pairs=doc_anchor_text_pairs.rdd\n",
        "\n",
        "###\n",
        "\n",
        "word_counts_anchor = doc_anchor_text_pairs.flatMap(lambda x: word_count(x[0], x[1], False))\n",
        "\n",
        "###\n",
        "\n",
        "posting_anchor_text = word_counts_anchor.groupByKey().mapValues(reduce_word_counts)\n",
        "\n",
        "###\n",
        "\n",
        "postings_filtered_anchor_text = posting_anchor_text.filter(lambda x: len(x[1])>10)\n",
        "\n",
        "anchor_text_df = calculate_df(postings_filtered_anchor_text)\n",
        "\n",
        "w2df_dict_anchor_text = anchor_text_df.collectAsMap()\n",
        "\n",
        "###\n",
        "\n",
        "posting_locs_list_anchor_text = partition_postings_and_write(postings_filtered_anchor_text).collect()\n",
        "\n",
        "###\n",
        "\n",
        "super_posting_locs_anchor_text = defaultdict(list)\n",
        "for posting_loc in posting_locs_list_anchor_text:\n",
        "  for k, v in posting_loc.items():\n",
        "    super_posting_locs_anchor_text[k].extend(v)\n",
        "\n",
        "###\n",
        "\n",
        "# Create inverted index instance for title\n",
        "inverted_anchor_text = InvertedIndex()\n",
        "# Adding the posting locations dictionary to the inverted index\n",
        "inverted_anchor_text.posting_locs = super_posting_locs_anchor_text\n",
        "# Add the token - df dictionary to the inverted index\n",
        "inverted_anchor_text.df = w2df_dict_anchor_text\n",
        "# write the global stats out\n",
        "inverted_anchor_text.write_index('.', 'index')"
      ],
      "metadata": {
        "id": "_AZ9PrQ460KB"
      },
      "execution_count": 21,
      "outputs": []
    },
    {
      "cell_type": "code",
      "source": [
        "# test the final index\n",
        "pl1 = read_posting_list(inverted_anchor_text, 'political')\n",
        "print(pl1)"
      ],
      "metadata": {
        "colab": {
          "base_uri": "https://localhost:8080/"
        },
        "id": "cTQl7eqs7d10",
        "outputId": "9103029d-4b30-47cc-ab7e-6991c7115258"
      },
      "execution_count": 22,
      "outputs": [
        {
          "output_type": "stream",
          "name": "stdout",
          "text": [
            "[(12, 5), (307, 2), (339, 2), (569, 4), (624, 1), (677, 1), (717, 1), (737, 1), (842, 1), (863, 2), (874, 1), (881, 1), (931, 1), (954, 1), (1023, 3), (1030, 3), (1036, 1), (1078, 3), (1093, 2), (1111, 1), (1193, 3), (1216, 1), (1273, 1), (1316, 1), (1417, 1), (1495, 3), (1500, 1), (1624, 1), (1625, 1), (1750, 1), (1806, 1), (1812, 1), (1814, 4), (1857, 1), (1921, 1), (1950, 1), (2030, 2), (2070, 1), (2075, 3), (2122, 1), (2151, 1), (2176, 1), (2185, 1), (2187, 1), (2299, 1), (2425, 1)]\n"
          ]
        }
      ]
    }
  ],
  "metadata": {
    "colab": {
      "collapsed_sections": [],
      "name": "Indexer.ipynb",
      "provenance": [],
      "include_colab_link": true
    },
    "kernelspec": {
      "display_name": "Python 3",
      "language": "python",
      "name": "python3"
    },
    "language_info": {
      "codemirror_mode": {
        "name": "ipython",
        "version": 3
      },
      "file_extension": ".py",
      "mimetype": "text/x-python",
      "name": "python",
      "nbconvert_exporter": "python",
      "pygments_lexer": "ipython3",
      "version": "3.7.4"
    }
  },
  "nbformat": 4,
  "nbformat_minor": 0
}