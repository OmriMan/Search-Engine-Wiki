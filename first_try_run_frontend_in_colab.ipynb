{
  "nbformat": 4,
  "nbformat_minor": 0,
  "metadata": {
    "colab": {
      "name": "first_try_run_frontend_in_colab.ipynb",
      "provenance": [],
      "authorship_tag": "ABX9TyNRnmE3TuS0UrR+Ci8YS3Bq",
      "include_colab_link": true
    },
    "kernelspec": {
      "name": "python3",
      "display_name": "Python 3"
    },
    "language_info": {
      "name": "python"
    }
  },
  "cells": [
    {
      "cell_type": "markdown",
      "metadata": {
        "id": "view-in-github",
        "colab_type": "text"
      },
      "source": [
        "<a href=\"https://colab.research.google.com/github/OmriMan/Search-Engine-Wiki/blob/master/first_try_run_frontend_in_colab.ipynb\" target=\"_parent\"><img src=\"https://colab.research.google.com/assets/colab-badge.svg\" alt=\"Open In Colab\"/></a>"
      ]
    },
    {
      "cell_type": "code",
      "execution_count": 2,
      "metadata": {
        "id": "9hn3MP-TfE1l"
      },
      "outputs": [],
      "source": [
        "import json\n",
        "\n",
        "with open('queries_train.json', 'rt') as f:\n",
        "  queries = json.load(f)"
      ]
    },
    {
      "cell_type": "code",
      "source": [
        "def average_precision(true_list, predicted_list, k=40):\n",
        "    true_set = frozenset(true_list)\n",
        "    predicted_list = predicted_list[:k]\n",
        "    precisions = []\n",
        "    for i,doc_id in enumerate(predicted_list):        \n",
        "        if doc_id in true_set:\n",
        "            prec = (len(precisions)+1) / (i+1)            \n",
        "            precisions.append(prec)\n",
        "    if len(precisions) == 0:\n",
        "        return 0.0\n",
        "    return round(sum(precisions)/len(precisions),3)"
      ],
      "metadata": {
        "id": "l6JyKIEAfMRn"
      },
      "execution_count": 3,
      "outputs": []
    },
    {
      "cell_type": "code",
      "source": [
        "import requests\n",
        "from time import time\n",
        "# url = 'http://35.232.59.3:8080'\n",
        "# place the domain you got from ngrok or GCP IP below. \n",
        "url = 'http://9bcb-34-74-80-244.ngrok.io'\n",
        "\n",
        "# qs_res = []\n",
        "# for q, true_wids in queries.items():\n",
        "#   duration, ap = None, None\n",
        "#   t_start = time()\n",
        "#   try:\n",
        "#     res = requests.get(url + '/search', {'query': q}, timeout=35)\n",
        "#     duration = time() - t_start\n",
        "#     if res.status_code == 200:\n",
        "#       pred_wids, _ = zip(*res.json())\n",
        "#       ap = average_precision(true_wids, pred_wids)\n",
        "#   except:\n",
        "#     pass\n",
        "  \n",
        "#   qs_res.append((q, duration, ap))\n",
        "\n",
        "print(requests.get(url + '/search', {'query':'Hello'}, timeout=35).text)"
      ],
      "metadata": {
        "id": "GkoicgN_fQg9",
        "colab": {
          "base_uri": "https://localhost:8080/"
        },
        "outputId": "4c7caaa9-0fcf-4fee-d42e-6d6f7bbf047c"
      },
      "execution_count": 24,
      "outputs": [
        {
          "output_type": "stream",
          "name": "stdout",
          "text": [
            "[[\"A\",\"n\",\"a\",\"r\",\"c\",\"h\",\"i\",\"s\",\"m\"]]\n",
            "\n"
          ]
        }
      ]
    }
  ]
}