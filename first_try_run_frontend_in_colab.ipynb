{
  "nbformat": 4,
  "nbformat_minor": 0,
  "metadata": {
    "colab": {
      "name": "first_try_run_frontend_in_colab.ipynb",
      "provenance": [],
      "authorship_tag": "ABX9TyMx9fmN1WFPhU+cF+hGkY0x",
      "include_colab_link": true
    },
    "kernelspec": {
      "name": "python3",
      "display_name": "Python 3"
    },
    "language_info": {
      "name": "python"
    }
  },
  "cells": [
    {
      "cell_type": "markdown",
      "metadata": {
        "id": "view-in-github",
        "colab_type": "text"
      },
      "source": [
        "<a href=\"https://colab.research.google.com/github/OmriMan/Search-Engine-Wiki/blob/master/first_try_run_frontend_in_colab.ipynb\" target=\"_parent\"><img src=\"https://colab.research.google.com/assets/colab-badge.svg\" alt=\"Open In Colab\"/></a>"
      ]
    },
    {
      "cell_type": "code",
      "execution_count": 3,
      "metadata": {
        "id": "9hn3MP-TfE1l"
      },
      "outputs": [],
      "source": [
        "import json\n",
        "\n",
        "with open('queries_train.json', 'rt') as f:\n",
        "  queries = json.load(f)"
      ]
    },
    {
      "cell_type": "code",
      "source": [
        "def average_precision(true_list, predicted_list, k=40):\n",
        "    true_set = frozenset(true_list)\n",
        "    predicted_list = predicted_list[:k]\n",
        "    precisions = []\n",
        "    for i,doc_id in enumerate(predicted_list):        \n",
        "        if doc_id in true_set:\n",
        "            prec = (len(precisions)+1) / (i+1)            \n",
        "            precisions.append(prec)\n",
        "    if len(precisions) == 0:\n",
        "        return 0.0\n",
        "    return round(sum(precisions)/len(precisions),3)"
      ],
      "metadata": {
        "id": "l6JyKIEAfMRn"
      },
      "execution_count": 4,
      "outputs": []
    },
    {
      "cell_type": "code",
      "source": [
        "import requests\n",
        "from time import time\n",
        "# url = 'http://35.232.59.3:8080'\n",
        "# place the domain you got from ngrok or GCP IP below. \n",
        "url = 'http://c51a-34-73-132-29.ngrok.io'\n",
        "\n",
        "# qs_res = []\n",
        "# for q, true_wids in queries.items():\n",
        "#   duration, ap = None, None\n",
        "#   t_start = time()\n",
        "#   try:\n",
        "#     res = requests.get(url + '/search', {'query': q}, timeout=35)\n",
        "#     duration = time() - t_start\n",
        "#     if res.status_code == 200:\n",
        "#       pred_wids, _ = zip(*res.json())\n",
        "#       ap = average_precision(true_wids, pred_wids)\n",
        "#   except:\n",
        "#     pass\n",
        "  \n",
        "#   qs_res.append((q, duration, ap))\n",
        "\n",
        "#search test\n",
        "#print(requests.get(url + '/search',{'query':'hello'}, timeout=35).text)\n",
        "\n",
        "#get_pageview test\n",
        "#page id = \t675561 ????? elbaz search what is this this page\n",
        "#print(requests.post(url + '/get_pageview', json=[12,675561,8]))\n",
        "# print(requests.get(url + '/search_anchor', {'query': 'political'}, timeout=35).text)\n",
        "print(requests.get(url + '/search_title', {'query': 'yoga'}, timeout=35).text)\n"
      ],
      "metadata": {
        "id": "GkoicgN_fQg9",
        "colab": {
          "base_uri": "https://localhost:8080/"
        },
        "outputId": "7cc518b4-15f9-4768-a7f1-6e0577a35bc7"
      },
      "execution_count": 50,
      "outputs": [
        {
          "output_type": "stream",
          "name": "stdout",
          "text": [
            "<!DOCTYPE HTML PUBLIC \"-//W3C//DTD HTML 3.2 Final//EN\">\n",
            "<title>500 Internal Server Error</title>\n",
            "<h1>Internal Server Error</h1>\n",
            "<p>The server encountered an internal error and was unable to complete your request. Either the server is overloaded or there is an error in the application.</p>\n",
            "\n"
          ]
        }
      ]
    }
  ]
}