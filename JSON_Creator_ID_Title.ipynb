{
  "nbformat": 4,
  "nbformat_minor": 0,
  "metadata": {
    "colab": {
      "name": "JSON_Creator_ID_Title.ipynb",
      "provenance": [],
      "authorship_tag": "ABX9TyNMK9VhX07btQMuZir2tRrj",
      "include_colab_link": true
    },
    "kernelspec": {
      "name": "python3",
      "display_name": "Python 3"
    },
    "language_info": {
      "name": "python"
    }
  },
  "cells": [
    {
      "cell_type": "markdown",
      "metadata": {
        "id": "view-in-github",
        "colab_type": "text"
      },
      "source": [
        "<a href=\"https://colab.research.google.com/github/OmriMan/Search-Engine-Wiki/blob/master/JSON_Creator_ID_Title.ipynb\" target=\"_parent\"><img src=\"https://colab.research.google.com/assets/colab-badge.svg\" alt=\"Open In Colab\"/></a>"
      ]
    },
    {
      "cell_type": "markdown",
      "source": [
        "Code to create a Json file and save it localy"
      ],
      "metadata": {
        "id": "6qYKmWrEBvqa"
      }
    },
    {
      "cell_type": "code",
      "execution_count": null,
      "metadata": {
        "id": "SMhv3cBhBlHa"
      },
      "outputs": [],
      "source": [
        "parquetFile_pd = pd.read_csv(\"small_corpus.csv\")\n",
        "parquetFile = spark.createDataFrame(parquetFile_pd)\n",
        "doc_title_pairs = parquetFile.select(\"title\", \"id\")\n",
        "\n",
        "title_id_dict = {}\n",
        "for i in doc_title_pairs.collect():\n",
        "  title_id_dict[i.id] = i.title\n",
        "\n",
        "with open('id_title_dict', 'w') as outfile:\n",
        "  json.dump(title_id_dict, outfile)"
      ]
    },
    {
      "cell_type": "markdown",
      "source": [
        "Code to read a Json file and save it as a dict"
      ],
      "metadata": {
        "id": "sQA4ZrfeB8XK"
      }
    },
    {
      "cell_type": "code",
      "source": [
        "with open('id_title_dict') as json_file:\n",
        "    dict_from_json = json.load(json_file)"
      ],
      "metadata": {
        "id": "BQCDHKnUCBvK"
      },
      "execution_count": null,
      "outputs": []
    }
  ]
}