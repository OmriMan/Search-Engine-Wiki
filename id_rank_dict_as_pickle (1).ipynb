{
  "nbformat": 4,
  "nbformat_minor": 0,
  "metadata": {
    "colab": {
      "name": "id_rank_dict_as_pickle.ipynb",
      "provenance": []
    },
    "kernelspec": {
      "name": "python3",
      "display_name": "Python 3"
    },
    "language_info": {
      "name": "python"
    }
  },
  "cells": [
    {
      "cell_type": "code",
      "execution_count": 3,
      "metadata": {
        "id": "zXQCRWPNaUwk"
      },
      "outputs": [],
      "source": [
        "import csv\n",
        "import gzip\n",
        "import pickle\n",
        "from pathlib import Path"
      ]
    },
    {
      "cell_type": "markdown",
      "source": [
        "Saves the dictionary to a file called \"id_rank_dict.pickle\"\n",
        "\n",
        "The file must be created before running\n"
      ],
      "metadata": {
        "id": "Kj3ua2nGa5H6"
      }
    },
    {
      "cell_type": "code",
      "source": [
        "id_rank_dict={}\n",
        "CSV_File_Name = 'pr_part-00000-56d2ce66-f68d-4981-9479-c748abeb2056-c000.csv'\n",
        "with open(CSV_File_Name,'rt') as f:\n",
        "  reader = csv.reader(f)\n",
        "  for row in reader:\n",
        "    id_rank_dict[int(row[0])] = float(row[1])\n",
        "\n",
        "\n",
        "pickle_File_Name ='id_rank_dict.pickle'\n",
        "with open(pickle_File_Name, 'wb') as f:\n",
        "  pickle.dump(id_rank_dict, f)\n"
      ],
      "metadata": {
        "id": "Y3SEYZzXa5j4"
      },
      "execution_count": 8,
      "outputs": []
    },
    {
      "cell_type": "markdown",
      "source": [
        "Example of reading the file\n",
        "\n",
        "The dictionary will be in format id:rank"
      ],
      "metadata": {
        "id": "XxPNX0F0dbLg"
      }
    },
    {
      "cell_type": "code",
      "source": [
        "pickle_File_Name_to_open='id_rank_dict.pickle'\n",
        "with open(pickle_File_Name_to_open, 'rb') as f:\n",
        "  id2rank = pickle.loads(f.read())\n",
        "\n",
        "print(id2rank[23862])"
      ],
      "metadata": {
        "colab": {
          "base_uri": "https://localhost:8080/"
        },
        "id": "ksLirNRWdbqb",
        "outputId": "73b39692-ea50-418c-a8d3-5f461af614de"
      },
      "execution_count": 9,
      "outputs": [
        {
          "output_type": "stream",
          "name": "stdout",
          "text": [
            "171.41766972448687\n"
          ]
        }
      ]
    }
  ]
}