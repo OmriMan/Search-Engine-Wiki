{
  "cells": [
    {
      "cell_type": "markdown",
      "metadata": {
        "id": "BuOXwGv3TyP1"
      },
      "source": [
        "# Imports and Function definitions"
      ]
    },
    {
      "cell_type": "code",
      "execution_count": 1,
      "metadata": {
        "colab": {
          "base_uri": "https://localhost:8080/"
        },
        "id": "2AX-vouwYcKZ",
        "outputId": "5bc964e0-807f-4f56-9872-b25d0d5c5f0f"
      },
      "outputs": [
        {
          "output_type": "stream",
          "name": "stdout",
          "text": [
            "[nltk_data] Downloading package stopwords to /root/nltk_data...\n",
            "[nltk_data]   Unzipping corpora/stopwords.zip.\n"
          ]
        }
      ],
      "source": [
        "import sys\n",
        "from collections import Counter, OrderedDict\n",
        "import itertools\n",
        "from itertools import islice, count, groupby\n",
        "import pandas as pd\n",
        "import os\n",
        "import re\n",
        "from operator import itemgetter\n",
        "import nltk\n",
        "from nltk.stem.porter import *\n",
        "from nltk.corpus import stopwords\n",
        "from time import time\n",
        "from timeit import timeit\n",
        "from pathlib import Path\n",
        "import pickle\n",
        "import pandas as pd\n",
        "import numpy as np\n",
        "from google.cloud import storage\n",
        "\n",
        "import hashlib\n",
        "def _hash(s):\n",
        "    return hashlib.blake2b(bytes(s, encoding='utf8'), digest_size=5).hexdigest()\n",
        "\n",
        "nltk.download('stopwords')\n",
        "\n",
        "from inverted_index_colab import *"
      ]
    },
    {
      "cell_type": "code",
      "execution_count": 2,
      "metadata": {
        "colab": {
          "base_uri": "https://localhost:8080/"
        },
        "id": "kw33QgujFQez",
        "outputId": "ee866873-d141-4768-e2db-a999df9fd2c3"
      },
      "outputs": [
        {
          "output_type": "stream",
          "name": "stdout",
          "text": [
            "\u001b[K     |████████████████████████████████| 281.3 MB 40 kB/s \n",
            "\u001b[K     |████████████████████████████████| 198 kB 41.9 MB/s \n",
            "\u001b[?25h  Building wheel for pyspark (setup.py) ... \u001b[?25l\u001b[?25hdone\n",
            "Get:1 https://cloud.r-project.org/bin/linux/ubuntu bionic-cran40/ InRelease [3,626 B]\n",
            "Ign:2 https://developer.download.nvidia.com/compute/cuda/repos/ubuntu1804/x86_64  InRelease\n",
            "Ign:3 https://developer.download.nvidia.com/compute/machine-learning/repos/ubuntu1804/x86_64  InRelease\n",
            "Get:4 http://ppa.launchpad.net/c2d4u.team/c2d4u4.0+/ubuntu bionic InRelease [15.9 kB]\n",
            "Hit:5 https://developer.download.nvidia.com/compute/cuda/repos/ubuntu1804/x86_64  Release\n",
            "Hit:6 https://developer.download.nvidia.com/compute/machine-learning/repos/ubuntu1804/x86_64  Release\n",
            "Get:7 http://security.ubuntu.com/ubuntu bionic-security InRelease [88.7 kB]\n",
            "Hit:8 http://archive.ubuntu.com/ubuntu bionic InRelease\n",
            "Get:9 http://archive.ubuntu.com/ubuntu bionic-updates InRelease [88.7 kB]\n",
            "Hit:10 http://ppa.launchpad.net/cran/libgit2/ubuntu bionic InRelease\n",
            "Get:12 http://ppa.launchpad.net/deadsnakes/ppa/ubuntu bionic InRelease [15.9 kB]\n",
            "Hit:13 http://archive.ubuntu.com/ubuntu bionic-backports InRelease\n",
            "Get:15 http://ppa.launchpad.net/graphics-drivers/ppa/ubuntu bionic InRelease [21.3 kB]\n",
            "Get:16 http://ppa.launchpad.net/c2d4u.team/c2d4u4.0+/ubuntu bionic/main Sources [1,822 kB]\n",
            "Get:17 http://security.ubuntu.com/ubuntu bionic-security/main amd64 Packages [2,489 kB]\n",
            "Get:18 http://archive.ubuntu.com/ubuntu bionic-updates/main amd64 Packages [2,927 kB]\n",
            "Get:19 http://ppa.launchpad.net/c2d4u.team/c2d4u4.0+/ubuntu bionic/main amd64 Packages [934 kB]\n",
            "Get:20 http://security.ubuntu.com/ubuntu bionic-security/restricted amd64 Packages [716 kB]\n",
            "Get:21 http://security.ubuntu.com/ubuntu bionic-security/multiverse amd64 Packages [26.8 kB]\n",
            "Get:22 http://security.ubuntu.com/ubuntu bionic-security/universe amd64 Packages [1,459 kB]\n",
            "Get:23 http://archive.ubuntu.com/ubuntu bionic-updates/universe amd64 Packages [2,238 kB]\n",
            "Get:24 http://archive.ubuntu.com/ubuntu bionic-updates/multiverse amd64 Packages [34.5 kB]\n",
            "Get:25 http://archive.ubuntu.com/ubuntu bionic-updates/restricted amd64 Packages [749 kB]\n",
            "Get:26 http://ppa.launchpad.net/deadsnakes/ppa/ubuntu bionic/main amd64 Packages [45.3 kB]\n",
            "Get:27 http://ppa.launchpad.net/graphics-drivers/ppa/ubuntu bionic/main amd64 Packages [44.7 kB]\n",
            "Fetched 13.7 MB in 4s (3,714 kB/s)\n",
            "Reading package lists... Done\n",
            "The following additional packages will be installed:\n",
            "  openjdk-8-jre-headless\n",
            "Suggested packages:\n",
            "  openjdk-8-demo openjdk-8-source libnss-mdns fonts-dejavu-extra\n",
            "  fonts-ipafont-gothic fonts-ipafont-mincho fonts-wqy-microhei\n",
            "  fonts-wqy-zenhei fonts-indic\n",
            "The following NEW packages will be installed:\n",
            "  openjdk-8-jdk-headless openjdk-8-jre-headless\n",
            "0 upgraded, 2 newly installed, 0 to remove and 59 not upgraded.\n",
            "Need to get 36.5 MB of archives.\n",
            "After this operation, 143 MB of additional disk space will be used.\n",
            "Selecting previously unselected package openjdk-8-jre-headless:amd64.\n",
            "(Reading database ... 155225 files and directories currently installed.)\n",
            "Preparing to unpack .../openjdk-8-jre-headless_8u312-b07-0ubuntu1~18.04_amd64.deb ...\n",
            "Unpacking openjdk-8-jre-headless:amd64 (8u312-b07-0ubuntu1~18.04) ...\n",
            "Selecting previously unselected package openjdk-8-jdk-headless:amd64.\n",
            "Preparing to unpack .../openjdk-8-jdk-headless_8u312-b07-0ubuntu1~18.04_amd64.deb ...\n",
            "Unpacking openjdk-8-jdk-headless:amd64 (8u312-b07-0ubuntu1~18.04) ...\n",
            "Setting up openjdk-8-jre-headless:amd64 (8u312-b07-0ubuntu1~18.04) ...\n",
            "update-alternatives: using /usr/lib/jvm/java-8-openjdk-amd64/jre/bin/orbd to provide /usr/bin/orbd (orbd) in auto mode\n",
            "update-alternatives: using /usr/lib/jvm/java-8-openjdk-amd64/jre/bin/servertool to provide /usr/bin/servertool (servertool) in auto mode\n",
            "update-alternatives: using /usr/lib/jvm/java-8-openjdk-amd64/jre/bin/tnameserv to provide /usr/bin/tnameserv (tnameserv) in auto mode\n",
            "Setting up openjdk-8-jdk-headless:amd64 (8u312-b07-0ubuntu1~18.04) ...\n",
            "update-alternatives: using /usr/lib/jvm/java-8-openjdk-amd64/bin/idlj to provide /usr/bin/idlj (idlj) in auto mode\n",
            "update-alternatives: using /usr/lib/jvm/java-8-openjdk-amd64/bin/wsimport to provide /usr/bin/wsimport (wsimport) in auto mode\n",
            "update-alternatives: using /usr/lib/jvm/java-8-openjdk-amd64/bin/jsadebugd to provide /usr/bin/jsadebugd (jsadebugd) in auto mode\n",
            "update-alternatives: using /usr/lib/jvm/java-8-openjdk-amd64/bin/native2ascii to provide /usr/bin/native2ascii (native2ascii) in auto mode\n",
            "update-alternatives: using /usr/lib/jvm/java-8-openjdk-amd64/bin/javah to provide /usr/bin/javah (javah) in auto mode\n",
            "update-alternatives: using /usr/lib/jvm/java-8-openjdk-amd64/bin/hsdb to provide /usr/bin/hsdb (hsdb) in auto mode\n",
            "update-alternatives: using /usr/lib/jvm/java-8-openjdk-amd64/bin/clhsdb to provide /usr/bin/clhsdb (clhsdb) in auto mode\n",
            "update-alternatives: using /usr/lib/jvm/java-8-openjdk-amd64/bin/xjc to provide /usr/bin/xjc (xjc) in auto mode\n",
            "update-alternatives: using /usr/lib/jvm/java-8-openjdk-amd64/bin/schemagen to provide /usr/bin/schemagen (schemagen) in auto mode\n",
            "update-alternatives: using /usr/lib/jvm/java-8-openjdk-amd64/bin/extcheck to provide /usr/bin/extcheck (extcheck) in auto mode\n",
            "update-alternatives: using /usr/lib/jvm/java-8-openjdk-amd64/bin/jhat to provide /usr/bin/jhat (jhat) in auto mode\n",
            "update-alternatives: using /usr/lib/jvm/java-8-openjdk-amd64/bin/wsgen to provide /usr/bin/wsgen (wsgen) in auto mode\n",
            "\u001b[K     |████████████████████████████████| 154 kB 5.3 MB/s \n",
            "\u001b[?25h--2022-01-06 14:14:31--  https://repos.spark-packages.org/graphframes/graphframes/0.8.2-spark3.2-s_2.12/graphframes-0.8.2-spark3.2-s_2.12.jar\n",
            "Resolving repos.spark-packages.org (repos.spark-packages.org)... 99.84.248.22, 99.84.248.21, 99.84.248.124, ...\n",
            "Connecting to repos.spark-packages.org (repos.spark-packages.org)|99.84.248.22|:443... connected.\n",
            "HTTP request sent, awaiting response... 200 OK\n",
            "Length: 247880 (242K) [binary/octet-stream]\n",
            "Saving to: ‘/usr/local/lib/python3.7/dist-packages/pyspark/jars/graphframes-0.8.2-spark3.2-s_2.12.jar’\n",
            "\n",
            "graphframes-0.8.2-s 100%[===================>] 242.07K  --.-KB/s    in 0.03s   \n",
            "\n",
            "2022-01-06 14:14:31 (8.08 MB/s) - ‘/usr/local/lib/python3.7/dist-packages/pyspark/jars/graphframes-0.8.2-spark3.2-s_2.12.jar’ saved [247880/247880]\n",
            "\n"
          ]
        }
      ],
      "source": [
        "# These will already be installed in the testing environment so disregard the \n",
        "# amount of time (~1 minute) it takes to install. \n",
        "!pip install -q pyspark\n",
        "!pip install -U -q PyDrive\n",
        "!apt-get update\n",
        "!apt install openjdk-8-jdk-headless -qq\n",
        "!pip install -q graphframes\n",
        "import os\n",
        "os.environ[\"JAVA_HOME\"] = \"/usr/lib/jvm/java-8-openjdk-amd64\"\n",
        "graphframes_jar = 'https://repos.spark-packages.org/graphframes/graphframes/0.8.2-spark3.2-s_2.12/graphframes-0.8.2-spark3.2-s_2.12.jar'\n",
        "spark_jars = '/usr/local/lib/python3.7/dist-packages/pyspark/jars'\n",
        "!wget -N -P $spark_jars $graphframes_jar"
      ]
    },
    {
      "cell_type": "code",
      "execution_count": 3,
      "metadata": {
        "id": "BkEErqJnsXyy"
      },
      "outputs": [],
      "source": [
        "import pyspark\n",
        "from pyspark.sql import *\n",
        "from pyspark.sql.functions import *\n",
        "from pyspark import SparkContext, SparkConf\n",
        "from pyspark.sql import SQLContext\n",
        "from pyspark.ml.feature import Tokenizer, RegexTokenizer\n",
        "from graphframes import *"
      ]
    },
    {
      "cell_type": "code",
      "execution_count": 4,
      "metadata": {
        "id": "9GmPedzexLyt"
      },
      "outputs": [],
      "source": [
        "english_stopwords = frozenset(stopwords.words('english'))\n",
        "corpus_stopwords = ['category', 'references', 'also', 'links', 'extenal', 'see', 'thumb']\n",
        "RE_WORD = re.compile(r\"\"\"[\\#\\@\\w](['\\-]?\\w){2,24}\"\"\", re.UNICODE)\n",
        "\n",
        "all_stopwords = english_stopwords.union(corpus_stopwords)\n",
        "\n",
        "def word_count(text, id, rmv_stopwords=True):\n",
        "  ''' Count the frequency of each word in `text` (tf) that is not included in \n",
        "  `all_stopwords` and return entries that will go into our posting lists. \n",
        "  Parameters:\n",
        "  -----------\n",
        "    text: str\n",
        "      Text of one document\n",
        "    id: int\n",
        "      Document id\n",
        "  Returns:\n",
        "  --------\n",
        "    List of tuples\n",
        "      A list of (token, (doc_id, tf)) pairs \n",
        "      for example: [(\"Anarchism\", (12, 5)), ...]\n",
        "  '''\n",
        "  tokens = [token.group() for token in RE_WORD.finditer(text.lower())]\n",
        "  result = []\n",
        "  if rmv_stopwords:\n",
        "    counter = Counter([i for i in tokens if i not in all_stopwords])\n",
        "  else:\n",
        "    counter = Counter([i for i in tokens])\n",
        "    \n",
        "  for key,val in counter.items():\n",
        "    tup_to_append = (key, (id, val))\n",
        "    result.append(tup_to_append)\n",
        "    \n",
        "  return result"
      ]
    },
    {
      "cell_type": "code",
      "execution_count": 5,
      "metadata": {
        "id": "1yFhHQBZHIBb"
      },
      "outputs": [],
      "source": [
        "def reduce_word_counts(unsorted_pl):\n",
        "  ''' Returns a sorted posting list by wiki_id.\n",
        "  Parameters:\n",
        "  -----------\n",
        "    unsorted_pl: list of tuples\n",
        "      A list of (wiki_id, tf) tuples \n",
        "  Returns:\n",
        "  --------\n",
        "    list of tuples\n",
        "      A sorted posting list.\n",
        "  '''\n",
        "  return sorted(unsorted_pl)\n",
        "  \n",
        "\n",
        "  "
      ]
    },
    {
      "cell_type": "code",
      "execution_count": 6,
      "metadata": {
        "id": "J_-UoG2CGj4o"
      },
      "outputs": [],
      "source": [
        "def calculate_df(postings):\n",
        "  ''' Takes a posting list RDD and calculate the df for each token.\n",
        "  Parameters:\n",
        "  -----------\n",
        "    postings: RDD\n",
        "      An RDD where each element is a (token, posting_list) pair.\n",
        "  Returns:\n",
        "  --------\n",
        "    RDD\n",
        "      An RDD where each element is a (token, df) pair.\n",
        "  '''\n",
        "  result = postings.map(lambda x : (x[0], len(x[1])))\n",
        "  return result\n"
      ]
    },
    {
      "cell_type": "code",
      "execution_count": 7,
      "metadata": {
        "id": "MvZDJk0bu9V9"
      },
      "outputs": [],
      "source": [
        "NUM_BUCKETS = 124\n",
        "def token2bucket_id(token):\n",
        "  return int(_hash(token),16) % NUM_BUCKETS\n",
        "\n",
        "def partition_postings_and_write(postings):\n",
        "  ''' A function that partitions the posting lists into buckets, writes out \n",
        "  all posting lists in a bucket to disk, and returns the posting locations for \n",
        "  each bucket. Partitioning should be done through the use of `token2bucket` \n",
        "  above. Writing to disk should use the function  `write_a_posting_list`, a \n",
        "  static method implemented in inverted_index_colab.py under the InvertedIndex \n",
        "  class. \n",
        "  Parameters:\n",
        "  -----------\n",
        "    postings: RDD\n",
        "      An RDD where each item is a (w, posting_list) pair.\n",
        "  Returns:\n",
        "  --------\n",
        "    RDD\n",
        "      An RDD where each item is a posting locations dictionary for a bucket. The\n",
        "      posting locations maintain a list for each word of file locations and \n",
        "      offsets its posting list was written to. See `write_a_posting_list` for \n",
        "      more details.\n",
        "  '''\n",
        "  result_before_grouping = postings.map(lambda x : (token2bucket_id(x[0]), x))\n",
        "  result_after_grouping = result_before_grouping.groupByKey()\n",
        "  return result_after_grouping.map(InvertedIndex.write_a_posting_list)\n",
        "  \n",
        "  \n"
      ]
    },
    {
      "cell_type": "code",
      "execution_count": 8,
      "metadata": {
        "id": "j2_qt2IPkxqz"
      },
      "outputs": [],
      "source": [
        "TUPLE_SIZE = 6       \n",
        "TF_MASK = 2 ** 16 - 1 # Masking the 16 low bits of an integer\n",
        "from contextlib import closing\n",
        "\n",
        "def read_posting_list(inverted, w):\n",
        "  with closing(MultiFileReader()) as reader:\n",
        "    locs = inverted.posting_locs[w]\n",
        "    b = reader.read(locs, inverted.df[w] * TUPLE_SIZE)\n",
        "    posting_list = []\n",
        "    for i in range(inverted.df[w]):\n",
        "      doc_id = int.from_bytes(b[i*TUPLE_SIZE:i*TUPLE_SIZE+4], 'big')\n",
        "      tf = int.from_bytes(b[i*TUPLE_SIZE+4:(i+1)*TUPLE_SIZE], 'big')\n",
        "      posting_list.append((doc_id, tf))\n",
        "    return posting_list"
      ]
    },
    {
      "cell_type": "markdown",
      "metadata": {
        "id": "B6dpqlxQUNul"
      },
      "source": [
        "# Inverted Index creation - body"
      ]
    },
    {
      "cell_type": "code",
      "execution_count": 9,
      "metadata": {
        "id": "OgiSewKAsgKd"
      },
      "outputs": [],
      "source": [
        "# Initializing spark context\n",
        "# create a spark context and session\n",
        "conf = SparkConf().set(\"spark.ui.port\", \"4050\")\n",
        "sc = pyspark.SparkContext(conf=conf)\n",
        "sc.addPyFile(str(Path(spark_jars) / Path(graphframes_jar).name))\n",
        "spark = SparkSession.builder.getOrCreate()"
      ]
    },
    {
      "cell_type": "code",
      "execution_count": 10,
      "metadata": {
        "colab": {
          "base_uri": "https://localhost:8080/"
        },
        "id": "24AI2jXgOuVN",
        "outputId": "154fc47f-9f8e-413d-cfd5-0a91466c0964"
      },
      "outputs": [
        {
          "output_type": "stream",
          "name": "stdout",
          "text": [
            "+----------+-------+--------------------+--------------------+--------------------+\n",
            "|Unnamed: 0|     id|               title|                text|         anchor_text|\n",
            "+----------+-------+--------------------+--------------------+--------------------+\n",
            "|         0|4055486|         Time Walker|'''''Time Walker'...|[Row(id=34240044,...|\n",
            "|         1|4080953|Nazi racial theories|The Nazi Party ad...|[Row(id=21736, te...|\n",
            "|         2|4093674|              Siopao|'''''Siopao''''' ...|[Row(id=232026, t...|\n",
            "|         3|4105482|       Plain vanilla|'''Plain vanilla'...|[Row(id=37512, te...|\n",
            "|         4|4108839|          NBA on TNT|'''''NBA on TNT''...|[Row(id=22093, te...|\n",
            "|         5|4141563|Predictive analytics|'''Predictive ana...|[Row(id=26685, te...|\n",
            "|         6|4146044|        Shrimp toast|'''Shrimp toast''...|[Row(id=13404, te...|\n",
            "|         7|4148655|       Jeremy Renner|'''Jeremy Lee Ren...|[Row(id=843158, t...|\n",
            "|         8|4169317|          Goat tying|thumb|Goat tying ...|[Row(id=130105, t...|\n",
            "|         9|4189740|Plant defense aga...|thumb|upright=1.3...|[Row(id=8129, tex...|\n",
            "|        10|4193788|        Making Money| \\n'''''Making Mo...|[Row(id=30029, te...|\n",
            "|        11|4201044|Masks (Star Trek:...|__NOTOC__\\n\"'''Ma...|[Row(id=27070, te...|\n",
            "|        12|4206029|Familial hemipleg...|'''Familial hemip...|[Row(id=68300, te...|\n",
            "|        13|4225907|           Docstring|In programming, a...|[Row(id=5311, tex...|\n",
            "|        14|4242777|    Raja Yoga (book)|'''''Raja Yoga'''...|[Row(id=45660, te...|\n",
            "|        15|4250574|Chocolate (Snow P...|\"'''Chocolate'''\"...|[Row(id=855742, t...|\n",
            "|        16|4275382|     Pasta e fagioli|'''''Pasta e fagi...|[Row(id=14532, te...|\n",
            "|        17|4301719|Mask (Bauhaus album)|'''''Mask''''' is...|[Row(id=55013, te...|\n",
            "|        18|4338696|   History of Google|'''Google Inc.'''...|[Row(id=1092923, ...|\n",
            "|        19|4344526|       Mango pudding|'''Mango pudding'...|[Row(id=13404, te...|\n",
            "+----------+-------+--------------------+--------------------+--------------------+\n",
            "only showing top 20 rows\n",
            "\n"
          ]
        }
      ],
      "source": [
        "#Choose the correct file to load - from the google bucket or from the csv file\n",
        "\n",
        "#Google bucket\n",
        "# doc_title_pairs = parquetFile.select(\"title\", \"id\").rdd\n",
        "# from pathlib import Path \n",
        "# import os\n",
        "\n",
        "# try:\n",
        "#     if os.environ[\"wikidata_preprocessed\"] is not None:\n",
        "#       path = os.environ[\"wikidata_preprocessed\"]+\"/wikidumps/*\"\n",
        "# except:\n",
        "#       path = \"wikidumps/*\"\n",
        "\n",
        "#CSV File\n",
        "parquetFile_pd = pd.read_csv(\"small_corpus.csv\")\n",
        "parquetFile = spark.createDataFrame(parquetFile_pd)\n",
        "parquetFile.show()\n",
        "\n",
        "# parquetFile = spark.read.parquet(path)\n",
        "# print(type(parquetFile))"
      ]
    },
    {
      "cell_type": "code",
      "execution_count": 34,
      "metadata": {
        "id": "KMcsrc8RO9kn",
        "colab": {
          "base_uri": "https://localhost:8080/"
        },
        "outputId": "56539423-b9bc-435c-c9b4-291781959af0"
      },
      "outputs": [
        {
          "output_type": "stream",
          "name": "stdout",
          "text": [
            "('tom', [(26763420, 27), (531828, 24), (15003874, 20), (719414, 17), (31460, 15), (43568, 15), (367423, 9), (17130725, 8), (2537370, 7), (277451, 7), (314665, 6), (256830, 5), (2184365, 5), (30265, 4), (2874053, 4), (2315112, 4), (715939, 4), (1568960, 4), (213394, 3), (8861986, 3), (47770304, 3), (6632427, 3), (404895, 3), (1352088, 3), (339841, 3), (216169, 3), (448514, 3), (2066558, 3), (350713, 3), (2702913, 3), (17490545, 3), (9351661, 3), (19454441, 3), (34240044, 2), (3491110, 2), (56796335, 2), (623013, 2), (50539648, 2), (727542, 2), (1086815, 2), (1792975, 2), (12926429, 2), (295706, 2), (2199999, 2), (4113657, 2), (99628, 2), (44203434, 2), (253555, 2), (663818, 2), (414308, 2), (148556, 2), (4712384, 2), (33938394, 2), (5861398, 1), (57285152, 1), (43135807, 1), (26098493, 1), (953881, 1), (12764766, 1), (36049969, 1), (30387, 1), (2343249, 1), (6304971, 1), (168507, 1), (97732, 1), (66846904, 1), (103326, 1), (52207008, 1), (1613833, 1), (2208661, 1), (32895937, 1), (1556578, 1), (2691667, 1), (13832588, 1), (2267401, 1), (2890700, 1), (7157929, 1), (19199265, 1), (871053, 1), (1929219, 1), (909019, 1), (839557, 1), (293722, 1), (75346, 1), (2287914, 1), (100710, 1), (4179, 1), (67021521, 1), (23361339, 1), (16304886, 1), (1926657, 1), (8512905, 1), (1650877, 1), (68765, 1), (3136619, 1), (2617746, 1), (312073, 1), (12510105, 1), (2533921, 1), (34060396, 1), (18328611, 1), (8688185, 1), (42581828, 1), (45629690, 1), (5043544, 1), (32070, 1), (6984, 1), (391324, 1), (23332, 1), (1139494, 1), (34134, 1), (3556748, 1), (1771587, 1), (21704, 1), (1083031, 1), (50350, 1), (18994363, 1), (25992484, 1), (44640484, 1), (65534387, 1), (4881898, 1), (6009939, 1), (3402601, 1), (11073685, 1), (5777593, 1), (3241335, 1), (31423, 1), (1663264, 1), (19045075, 1), (1106432, 1), (3349303, 1), (2201072, 1), (19661476, 1), (47776962, 1), (2269306, 1), (43066852, 1), (354987, 1), (13467, 1), (13562141, 1), (913740, 1), (328339, 1), (37441502, 1), (38011645, 1), (103958, 1), (3717944, 1), (23899335, 1), (2566612, 1), (264501, 1), (27988307, 1), (491986, 1), (14833842, 1), (358820, 1), (13902799, 1), (48325627, 1), (2181812, 1), (23460518, 1), (47378412, 1), (606848, 1), (335591, 1), (597264, 1), (9246601, 1), (56419282, 1), (7045974, 1), (7757098, 1), (56784475, 1), (31924, 1), (5298108, 1), (168094, 1), (56931, 1), (40833242, 1), (29047622, 1), (5402860, 1), (699307, 1), (33494612, 1), (40283848, 1), (68085817, 1), (28162971, 1), (44513777, 1), (24587026, 1), (34629426, 1), (639269, 1), (3383, 1), (66424446, 1), (66946785, 1), (3626593, 1), (685987, 1), (88366, 1), (5407, 1), (73640, 1), (57951641, 1), (77795, 1), (63164437, 1), (72879, 1), (72875, 1), (63176386, 1), (67621710, 1), (60240554, 1), (14607762, 1), (43455, 1), (613492, 1), (1009303, 1), (1352936, 1), (19883, 1), (2167315, 1), (746952, 1), (19627280, 1), (375268, 1), (1669710, 1), (1985341, 1), (2041039, 1), (11149934, 1), (2508131, 1), (19367520, 1), (54410139, 1), (21654608, 1), (4032221, 1), (3410166, 1), (605996, 1), (21726456, 1), (11400577, 1), (9838434, 1), (1035511, 1), (9555997, 1), (2104365, 1), (6922906, 1), (3550435, 1), (1256913, 1), (13143616, 1), (30519, 1), (24607414, 1), (6332981, 1), (22308646, 1), (413949, 1), (167290, 1), (25513462, 1), (33275304, 1), (5281033, 1), (8105061, 1), (2663481, 1), (18597842, 1), (467155, 1), (10226459, 1), (4295000, 1), (1704406, 1), (6038349, 1), (1328333, 1), (716281, 1), (60596395, 1), (1105372, 1), (2002167, 1), (20569834, 1), (7158647, 1), (10353404, 1), (18276575, 1), (322019, 1), (4482189, 1), (2285232, 1), (31278322, 1), (63159628, 1), (9629843, 1), (5086061, 1), (656106, 1), (1351808, 1), (984217, 1), (11816937, 1), (8355871, 1), (6104568, 1), (1181904, 1)])\n"
          ]
        }
      ],
      "source": [
        "doc_anchor_text_pairs = parquetFile.select(\"anchor_text\", \"id\")\n",
        "\n",
        "\n",
        "dict_of_anchor_words = {}\n",
        "\n",
        "# Small corpus represents the anchor text as a string - so we extract from it the anchor and the id\n",
        "# Return dict of {word: (doc_id, 1), (doc_id, 1)}\n",
        "for row in doc_anchor_text_pairs.collect(): \n",
        "  \n",
        "  anchor_as_list = re.sub(\"(\\[Row\\(id=)|(Row\\(id=)|(, text=')|('\\), )|('\\)])\", \",\",row.anchor_text).split(\",\")\n",
        "  id = None\n",
        "  for i in anchor_as_list:\n",
        "    \n",
        "    if i is \"\":\n",
        "      continue\n",
        "\n",
        "    elif i.isnumeric():\n",
        "      id = i\n",
        " \n",
        "    else:\n",
        "      for word in i.split(' '):\n",
        "        word = word.lower()\n",
        "        if word in all_stopwords:\n",
        "          continue\n",
        "        if word not in dict_of_anchor_words.keys():\n",
        "          dict_of_anchor_words[word] = Counter()\n",
        "          dict_of_anchor_words[word][id] = 1\n",
        "        else:\n",
        "          dict_of_anchor_words[word][id] += 1\n",
        "\n",
        "\n",
        "# Code for normal corpus - will hold dict of {word: (doc_id, 1), (doc_id, 1)}\n",
        "# for row in doc_text_pairs.collect():\n",
        "#   for pair in row.anchor_text:\n",
        "#     for word in pair.text.split(' '):\n",
        "#       word = word.lower()\n",
        "      \n",
        "#       if word in all_stopwords:\n",
        "#         continue\n",
        "\n",
        "#       if word not in dict_of_anchor_words.keys():\n",
        "#         dict_of_anchor_words[word] = Counter()\n",
        "#         dict_of_anchor_words[word][pair.id] = 1\n",
        "      \n",
        "#       else:\n",
        "#         dict_of_anchor_words[word][pair.id] += 1\n",
        "\n",
        "posting_anchor_text = list(map(lambda x: (x[0], [(int(i[0]), i[1]) for i in x[1].most_common()]), list(dict_of_anchor_words.items())))\n",
        "print(posting_anchor_text[0])\n",
        "\n",
        "\n"
      ]
    },
    {
      "cell_type": "code",
      "execution_count": 35,
      "metadata": {
        "colab": {
          "base_uri": "https://localhost:8080/"
        },
        "id": "fzM3BbhTibra",
        "outputId": "3758b389-6e87-4f35-a093-51a86cc7b0a8"
      },
      "outputs": [
        {
          "output_type": "stream",
          "name": "stdout",
          "text": [
            "<class 'pyspark.rdd.RDD'>\n",
            "('tom', [(26763420, 27), (531828, 24), (15003874, 20), (719414, 17), (31460, 15), (43568, 15), (367423, 9), (17130725, 8), (2537370, 7), (277451, 7), (314665, 6), (256830, 5), (2184365, 5), (30265, 4), (2874053, 4), (2315112, 4), (715939, 4), (1568960, 4), (213394, 3), (8861986, 3), (47770304, 3), (6632427, 3), (404895, 3), (1352088, 3), (339841, 3), (216169, 3), (448514, 3), (2066558, 3), (350713, 3), (2702913, 3), (17490545, 3), (9351661, 3), (19454441, 3), (34240044, 2), (3491110, 2), (56796335, 2), (623013, 2), (50539648, 2), (727542, 2), (1086815, 2), (1792975, 2), (12926429, 2), (295706, 2), (2199999, 2), (4113657, 2), (99628, 2), (44203434, 2), (253555, 2), (663818, 2), (414308, 2), (148556, 2), (4712384, 2), (33938394, 2), (5861398, 1), (57285152, 1), (43135807, 1), (26098493, 1), (953881, 1), (12764766, 1), (36049969, 1), (30387, 1), (2343249, 1), (6304971, 1), (168507, 1), (97732, 1), (66846904, 1), (103326, 1), (52207008, 1), (1613833, 1), (2208661, 1), (32895937, 1), (1556578, 1), (2691667, 1), (13832588, 1), (2267401, 1), (2890700, 1), (7157929, 1), (19199265, 1), (871053, 1), (1929219, 1), (909019, 1), (839557, 1), (293722, 1), (75346, 1), (2287914, 1), (100710, 1), (4179, 1), (67021521, 1), (23361339, 1), (16304886, 1), (1926657, 1), (8512905, 1), (1650877, 1), (68765, 1), (3136619, 1), (2617746, 1), (312073, 1), (12510105, 1), (2533921, 1), (34060396, 1), (18328611, 1), (8688185, 1), (42581828, 1), (45629690, 1), (5043544, 1), (32070, 1), (6984, 1), (391324, 1), (23332, 1), (1139494, 1), (34134, 1), (3556748, 1), (1771587, 1), (21704, 1), (1083031, 1), (50350, 1), (18994363, 1), (25992484, 1), (44640484, 1), (65534387, 1), (4881898, 1), (6009939, 1), (3402601, 1), (11073685, 1), (5777593, 1), (3241335, 1), (31423, 1), (1663264, 1), (19045075, 1), (1106432, 1), (3349303, 1), (2201072, 1), (19661476, 1), (47776962, 1), (2269306, 1), (43066852, 1), (354987, 1), (13467, 1), (13562141, 1), (913740, 1), (328339, 1), (37441502, 1), (38011645, 1), (103958, 1), (3717944, 1), (23899335, 1), (2566612, 1), (264501, 1), (27988307, 1), (491986, 1), (14833842, 1), (358820, 1), (13902799, 1), (48325627, 1), (2181812, 1), (23460518, 1), (47378412, 1), (606848, 1), (335591, 1), (597264, 1), (9246601, 1), (56419282, 1), (7045974, 1), (7757098, 1), (56784475, 1), (31924, 1), (5298108, 1), (168094, 1), (56931, 1), (40833242, 1), (29047622, 1), (5402860, 1), (699307, 1), (33494612, 1), (40283848, 1), (68085817, 1), (28162971, 1), (44513777, 1), (24587026, 1), (34629426, 1), (639269, 1), (3383, 1), (66424446, 1), (66946785, 1), (3626593, 1), (685987, 1), (88366, 1), (5407, 1), (73640, 1), (57951641, 1), (77795, 1), (63164437, 1), (72879, 1), (72875, 1), (63176386, 1), (67621710, 1), (60240554, 1), (14607762, 1), (43455, 1), (613492, 1), (1009303, 1), (1352936, 1), (19883, 1), (2167315, 1), (746952, 1), (19627280, 1), (375268, 1), (1669710, 1), (1985341, 1), (2041039, 1), (11149934, 1), (2508131, 1), (19367520, 1), (54410139, 1), (21654608, 1), (4032221, 1), (3410166, 1), (605996, 1), (21726456, 1), (11400577, 1), (9838434, 1), (1035511, 1), (9555997, 1), (2104365, 1), (6922906, 1), (3550435, 1), (1256913, 1), (13143616, 1), (30519, 1), (24607414, 1), (6332981, 1), (22308646, 1), (413949, 1), (167290, 1), (25513462, 1), (33275304, 1), (5281033, 1), (8105061, 1), (2663481, 1), (18597842, 1), (467155, 1), (10226459, 1), (4295000, 1), (1704406, 1), (6038349, 1), (1328333, 1), (716281, 1), (60596395, 1), (1105372, 1), (2002167, 1), (20569834, 1), (7158647, 1), (10353404, 1), (18276575, 1), (322019, 1), (4482189, 1), (2285232, 1), (31278322, 1), (63159628, 1), (9629843, 1), (5086061, 1), (656106, 1), (1351808, 1), (984217, 1), (11816937, 1), (8355871, 1), (6104568, 1), (1181904, 1)])\n"
          ]
        }
      ],
      "source": [
        "posting_anchor_text = spark.sparkContext.parallelize(posting_anchor_text)\n",
        "print(type(posting_anchor_text))\n",
        "print(posting_anchor_text.first())\n",
        "anchor_text_df = calculate_df(posting_anchor_text)\n",
        "w2df_dict_anchor_text = anchor_text_df.collectAsMap()"
      ]
    },
    {
      "cell_type": "code",
      "execution_count": 36,
      "metadata": {
        "id": "xs-6Sa-qjKbw"
      },
      "outputs": [],
      "source": [
        "posting_locs_list_anchor_text = partition_postings_and_write(posting_anchor_text).collect()"
      ]
    },
    {
      "cell_type": "code",
      "execution_count": 37,
      "metadata": {
        "id": "C-h5dgtF-TeL"
      },
      "outputs": [],
      "source": [
        "# merge the posting locations into a single dict\n",
        "super_posting_locs_anchor_text = defaultdict(list)\n",
        "for posting_loc in posting_locs_list_anchor_text:\n",
        "  for k, v in posting_loc.items():\n",
        "    super_posting_locs_anchor_text[k].extend(v)"
      ]
    },
    {
      "cell_type": "code",
      "execution_count": 38,
      "metadata": {
        "id": "VKrew8cUAyTz"
      },
      "outputs": [],
      "source": [
        "# # Create inverted index instance for anchor\n",
        "inverted_anchor_text = InvertedIndex()\n",
        "# Adding the posting locations dictionary to the inverted index\n",
        "inverted_anchor_text.posting_locs = super_posting_locs_anchor_text\n",
        "# Add the token - df dictionary to the inverted index\n",
        "inverted_anchor_text.df = w2df_dict_anchor_text\n",
        "# write the global stats out\n",
        "inverted_anchor_text.write_index('.', 'index_anchor')"
      ]
    },
    {
      "cell_type": "markdown",
      "metadata": {
        "id": "JpcHJvHOUrLL"
      },
      "source": [
        "#Test"
      ]
    },
    {
      "cell_type": "code",
      "execution_count": null,
      "metadata": {
        "colab": {
          "base_uri": "https://localhost:8080/",
          "height": 339
        },
        "id": "VF6gfVFSIzM6",
        "outputId": "8802afce-f527-4b88-da9c-f1f61684c0e8"
      },
      "outputs": [
        {
          "output_type": "error",
          "ename": "KeyError",
          "evalue": "ignored",
          "traceback": [
            "\u001b[0;31m---------------------------------------------------------------------------\u001b[0m",
            "\u001b[0;31mKeyError\u001b[0m                                  Traceback (most recent call last)",
            "\u001b[0;32m<ipython-input-89-f6ec4edb2421>\u001b[0m in \u001b[0;36m<module>\u001b[0;34m()\u001b[0m\n\u001b[1;32m      3\u001b[0m \u001b[0;31m# print(pl)\u001b[0m\u001b[0;34m\u001b[0m\u001b[0;34m\u001b[0m\u001b[0;34m\u001b[0m\u001b[0m\n\u001b[1;32m      4\u001b[0m \u001b[0;34m\u001b[0m\u001b[0m\n\u001b[0;32m----> 5\u001b[0;31m \u001b[0mpl1\u001b[0m \u001b[0;34m=\u001b[0m \u001b[0mread_posting_list\u001b[0m\u001b[0;34m(\u001b[0m\u001b[0minverted_anchor_text\u001b[0m\u001b[0;34m,\u001b[0m \u001b[0;34m'clinical psychology'\u001b[0m\u001b[0;34m)\u001b[0m\u001b[0;34m\u001b[0m\u001b[0;34m\u001b[0m\u001b[0m\n\u001b[0m\u001b[1;32m      6\u001b[0m \u001b[0mprint\u001b[0m\u001b[0;34m(\u001b[0m\u001b[0mpl1\u001b[0m\u001b[0;34m)\u001b[0m\u001b[0;34m\u001b[0m\u001b[0;34m\u001b[0m\u001b[0m\n",
            "\u001b[0;32m<ipython-input-8-8af4ae22d4b1>\u001b[0m in \u001b[0;36mread_posting_list\u001b[0;34m(inverted, w)\u001b[0m\n\u001b[1;32m      6\u001b[0m   \u001b[0;32mwith\u001b[0m \u001b[0mclosing\u001b[0m\u001b[0;34m(\u001b[0m\u001b[0mMultiFileReader\u001b[0m\u001b[0;34m(\u001b[0m\u001b[0;34m)\u001b[0m\u001b[0;34m)\u001b[0m \u001b[0;32mas\u001b[0m \u001b[0mreader\u001b[0m\u001b[0;34m:\u001b[0m\u001b[0;34m\u001b[0m\u001b[0;34m\u001b[0m\u001b[0m\n\u001b[1;32m      7\u001b[0m     \u001b[0mlocs\u001b[0m \u001b[0;34m=\u001b[0m \u001b[0minverted\u001b[0m\u001b[0;34m.\u001b[0m\u001b[0mposting_locs\u001b[0m\u001b[0;34m[\u001b[0m\u001b[0mw\u001b[0m\u001b[0;34m]\u001b[0m\u001b[0;34m\u001b[0m\u001b[0;34m\u001b[0m\u001b[0m\n\u001b[0;32m----> 8\u001b[0;31m     \u001b[0mb\u001b[0m \u001b[0;34m=\u001b[0m \u001b[0mreader\u001b[0m\u001b[0;34m.\u001b[0m\u001b[0mread\u001b[0m\u001b[0;34m(\u001b[0m\u001b[0mlocs\u001b[0m\u001b[0;34m,\u001b[0m \u001b[0minverted\u001b[0m\u001b[0;34m.\u001b[0m\u001b[0mdf\u001b[0m\u001b[0;34m[\u001b[0m\u001b[0mw\u001b[0m\u001b[0;34m]\u001b[0m \u001b[0;34m*\u001b[0m \u001b[0mTUPLE_SIZE\u001b[0m\u001b[0;34m)\u001b[0m\u001b[0;34m\u001b[0m\u001b[0;34m\u001b[0m\u001b[0m\n\u001b[0m\u001b[1;32m      9\u001b[0m     \u001b[0mposting_list\u001b[0m \u001b[0;34m=\u001b[0m \u001b[0;34m[\u001b[0m\u001b[0;34m]\u001b[0m\u001b[0;34m\u001b[0m\u001b[0;34m\u001b[0m\u001b[0m\n\u001b[1;32m     10\u001b[0m     \u001b[0;32mfor\u001b[0m \u001b[0mi\u001b[0m \u001b[0;32min\u001b[0m \u001b[0mrange\u001b[0m\u001b[0;34m(\u001b[0m\u001b[0minverted\u001b[0m\u001b[0;34m.\u001b[0m\u001b[0mdf\u001b[0m\u001b[0;34m[\u001b[0m\u001b[0mw\u001b[0m\u001b[0;34m]\u001b[0m\u001b[0;34m)\u001b[0m\u001b[0;34m:\u001b[0m\u001b[0;34m\u001b[0m\u001b[0;34m\u001b[0m\u001b[0m\n",
            "\u001b[0;31mKeyError\u001b[0m: 'clinical psychology'"
          ]
        }
      ],
      "source": [
        "## test the final index\n",
        "# pl = read_posting_list(inverted_text, 'clarity')\n",
        "# print(pl)\n",
        "\n",
        "pl1 = read_posting_list(inverted_anchor_text, 'clinical psychology')\n",
        "print(pl1)"
      ]
    }
  ],
  "metadata": {
    "colab": {
      "name": "Indexer_small_corpus_anchor.ipynb",
      "provenance": [],
      "collapsed_sections": []
    },
    "kernelspec": {
      "display_name": "Python 3",
      "name": "python3"
    },
    "language_info": {
      "name": "python"
    }
  },
  "nbformat": 4,
  "nbformat_minor": 0
}