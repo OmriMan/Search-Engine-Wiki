{
  "nbformat": 4,
  "nbformat_minor": 0,
  "metadata": {
    "colab": {
      "name": "generic_test_run_frontend_in_colab.ipynb",
      "provenance": []
    },
    "kernelspec": {
      "name": "python3",
      "display_name": "Python 3"
    },
    "language_info": {
      "name": "python"
    }
  },
  "cells": [
    {
      "cell_type": "code",
      "execution_count": 3,
      "metadata": {
        "id": "9hn3MP-TfE1l"
      },
      "outputs": [],
      "source": [
        "import json\n",
        "\n",
        "with open('queries_train.json', 'rt') as f:\n",
        "  queries = json.load(f)"
      ]
    },
    {
      "cell_type": "code",
      "source": [
        "def average_precision(true_list, predicted_list, k=40):\n",
        "    true_set = frozenset(true_list)\n",
        "    predicted_list = predicted_list[:k]\n",
        "    precisions = []\n",
        "    for i,doc_id in enumerate(predicted_list):        \n",
        "        if doc_id in true_set:\n",
        "            prec = (len(precisions)+1) / (i+1)            \n",
        "            precisions.append(prec)\n",
        "    if len(precisions) == 0:\n",
        "        return 0.0\n",
        "    return round(sum(precisions)/len(precisions),3)"
      ],
      "metadata": {
        "id": "l6JyKIEAfMRn"
      },
      "execution_count": 4,
      "outputs": []
    },
    {
      "cell_type": "code",
      "source": [
        "import requests\n",
        "from time import time\n",
        "# url = 'http://35.232.59.3:8080'\n",
        "# place the domain you got from ngrok or GCP IP below. \n",
        "url = 'http://f729-34-122-240-65.ngrok.io'\n",
        "\n",
        "qs_res_body = []\n",
        "qs_res_title = []\n",
        "qs_res_anchor = []\n",
        "qs_res_rank = []\n",
        "qs_res_views = []\n",
        "for q, true_wids in queries.items():\n",
        "  duration, ap = None, None\n",
        "  t_start = time()\n",
        "  try:\n",
        "    res_body = requests.get(url + '/search_body', {'query': q}, timeout=35)\n",
        "    duration_body = time() - t_start\n",
        "    t_start=time()\n",
        "    res_title = requests.get(url + '/search_title', {'query': q}, timeout=35)\n",
        "    duration_title = time() - t_start\n",
        "    t_start=time()\n",
        "    res_anchor = requests.get(url + '/search_anchor', {'query': q}, timeout=35)\n",
        "    duration_anchor = time() - t_start\n",
        "    if res_body.status_code == 200:\n",
        "      pred_wids, _ = zip(*res_body.json())\n",
        "      ap_body = average_precision(true_wids, pred_wids)\n",
        "    # if res_title.status_code == 200:\n",
        "    #   pred_wids, _ = zip(*res_title.json())\n",
        "    #   ap_title = average_precision(true_wids, pred_wids)\n",
        "    # if res_anchor.status_code == 200:\n",
        "    #   pred_wids, _ = zip(*res_anchor.json())\n",
        "    #   ap_anchor = average_precision(true_wids, pred_wids)\n",
        "    \n",
        "  except:\n",
        "    pass\n",
        "  \n",
        "  qs_res_body.append((q, duration_body, ap_body))\n",
        "  # qs_res_title.append((q, duration_title, ap_title))\n",
        "  # qs_res_anchor.append((q, duration_anchor, ap_anchor))\n",
        "print(qs_res_body)\n",
        "# print(qs_res_title)\n",
        "# print(qs_res_anchor)\n",
        "#print(len(qs_res))\n",
        "\n",
        "#search test\n",
        "#print(requests.get(url + '/search',{'query':'hello'}, timeout=35).text)\n",
        "\n",
        "#get_pageview test\n",
        "#page id = \t675561 ????? elbaz search what is this this page\n",
        "#print(requests.post(url + '/get_pageview', json=[12,675561,8,2023]).text)\n",
        "#print(requests.get(url + '/search_anchor', {'query': 'political'}, timeout=35).text)\n",
        "#print(requests.get(url + '/search_anchor', {'query': 'Clinical'}, timeout=35).text)\n",
        "# print(requests.get(url + '/search_title', {'query': 'yoga'}, timeout=35).text)\n",
        "# print(requests.get(url + '/search_title', {'query': 'NBA'}, timeout=35).text)\n"
      ],
      "metadata": {
        "id": "GkoicgN_fQg9",
        "colab": {
          "base_uri": "https://localhost:8080/"
        },
        "outputId": "9de09d65-97e8-4da2-df35-1ac76cb866e3"
      },
      "execution_count": 10,
      "outputs": [
        {
          "output_type": "stream",
          "name": "stdout",
          "text": [
            "[('python', 0.13433003425598145, 0.737), ('data science', 0.12847399711608887, 0.187), ('migraine', 0.18093514442443848, 0.902), ('chocolate', 0.19231295585632324, 0.236), ('how to make pasta', 0.11969518661499023, 0.209), ('Does pasta have preservatives?', 0.19460463523864746, 0.955), ('how google works', 0.11879777908325195, 0.103), ('what is information retrieval', 0.117156982421875, 0.957), ('NBA', 0.19048404693603516, 0.978), ('yoga', 0.11332058906555176, 0.821), ('how to not kill plants', 0.11832809448242188, 0.589), ('masks', 0.11697721481323242, 0.781), ('black friday', 0.12832975387573242, 0.895), ('why do men have nipples', 0.11750459671020508, 1.0), ('rubber duck', 0.20731711387634277, 0.969), ('michelin', 0.13570523262023926, 0.711), ('what to watch', 0.11944460868835449, 0.229), ('best marvel movie', 0.1269826889038086, 0.821), ('how tall is the eiffel tower', 0.11850214004516602, 0.868), ('where does vanilla flavoring come from', 0.12590694427490234, 0.489), ('best ice cream flavour', 0.12004637718200684, 0.134), ('how to tie a tie', 0.11672759056091309, 0.284), ('how to earn money online', 0.1963193416595459, 0.607), ('what is critical race theory', 0.12067127227783203, 0.728), ('what space movie was made in 1992', 0.12288141250610352, 0.541), ('how to vote', 0.11919593811035156, 0.523), ('google trends', 0.12078285217285156, 0.584), ('dim sum', 0.14031195640563965, 0.975), ('ted', 0.1426386833190918, 0.509), ('fairy tale', 0.11887335777282715, 0.887)]\n"
          ]
        }
      ]
    },
    {
      "cell_type": "code",
      "source": [
        "import requests\n",
        "from time import time\n",
        "# url = 'http://35.232.59.3:8080'\n",
        "# place the domain you got from ngrok or GCP IP below. \n",
        "url = 'http://0759-34-122-240-65.ngrok.io'\n",
        "\n",
        "t_start = time()\n",
        "res = requests.post(url + '/get_pageview', json=[34258, 59580357, 315141, 47035547, 626718, 32016617, 59516988, 61583621, 38424, 196789, 734272, 60851303, 988753, 92222, 419015, 60992198, 621809, 83742, 3127300, 23834216, 1381751, 744158, 18911094, 1817874, 59052395, 43562594, 31793047, 6154795, 17452177, 62342792, 13936750, 60805249, 60823333, 59899027, 46719542, 7702313, 60310807, 44270128, 68489731, 60500106, 1652601, 359983, 60300514, 45482242, 34756533, 58520592, 43611227, 47586513, 1775374, 6933106, 13412771, 62549131, 49278248, 62557135, 4523354, 60468426, 666420, 1017009, 35795560, 34843274, 60199413, 16488467, 29828807, 585681, 41757168, 66018807, 61285582, 1226448, 28848113, 11487904, 4242777, 1661867, 10671559, 44035836, 6931929, 60705564, 61690747, 7343803, 9042644, 36991237, 3965223, 63090179, 632990, 1041815, 53087254, 418999, 1632919])\n",
        "duration = time() - t_start\n",
        "print(duration)\n",
        "print(res.text)\n",
        "\n",
        "t_start = time()\n",
        "res = requests.post(url + '/get_pagerank', json=[34258, 59580357, 315141, 47035547, 626718, 32016617, 59516988, 61583621, 38424, 196789, 734272, 60851303, 988753, 92222, 419015, 60992198, 621809, 83742, 3127300, 23834216, 1381751, 744158, 18911094, 1817874, 59052395, 43562594, 31793047, 6154795, 17452177, 62342792, 13936750, 60805249, 60823333, 59899027, 46719542, 7702313, 60310807, 44270128, 68489731, 60500106, 1652601, 359983, 60300514, 45482242, 34756533, 58520592, 43611227, 47586513, 1775374, 6933106, 13412771, 62549131, 49278248, 62557135, 4523354, 60468426, 666420, 1017009, 35795560, 34843274, 60199413, 16488467, 29828807, 585681, 41757168, 66018807, 61285582, 1226448, 28848113, 11487904, 4242777, 1661867, 10671559, 44035836, 6931929, 60705564, 61690747, 7343803, 9042644, 36991237, 3965223, 63090179, 632990, 1041815, 53087254, 418999, 1632919])\n",
        "duration = time() - t_start\n",
        "print(duration)\n",
        "print(res.text)\n"
      ],
      "metadata": {
        "colab": {
          "base_uri": "https://localhost:8080/"
        },
        "id": "j_dcxmGTsYwE",
        "outputId": "4445d7a9-2d89-40a5-87d4-084445867a3c"
      },
      "execution_count": 27,
      "outputs": [
        {
          "output_type": "stream",
          "name": "stdout",
          "text": [
            "0.11990141868591309\n",
            "[80260,7586,24309,5847,24350,6509,1831,1489,10675,7806,19795,22388,14796,17410,16266,843,23057,10667,1376,2092,11403,7627,8427,3783,1244,2328,1334,1828,5328,241,2943,54,380,213,15523,5708,705,10425,1439,941,908,8043,133,215,1163,656,22118,560,720,5019,1498,59,825,132,607,724,3693,2012,1054,5773,190,1504,338,12343,1639,449,61,4850,522,408,2531,969,553,674,963,585,184,268,60,582,1053,922,15679,6257,120,5183,15579]\n",
            "\n",
            "0.0966634750366211\n",
            "[83.99594185114448,9.45604981472203,8.380580114251691,8.11020896045297,16.272385307418013,0.41291724286653814,1.7940347142121646,0.26277566427191196,1.2218084388647872,1.7393116070195953,2.6741742356334357,1.7221327530291795,1.575401332613651,2.97067615767833,3.730605548508708,0.6928982299460693,11.194186005258684,13.65855912454737,1.711961906484961,1.1245083820805095,5.515282580218201,6.287814772813479,0.47042904830792065,1.045163072707094,2.446854098995287,0.2422050679132725,0.5457835440994311,1.2202916730566309,0.9985459792437439,0.18484951992942472,1.605735463688973,0.15012084938704282,1.3394368532328211,0.53242221731722,0.6674713780878285,4.078184008792659,0.7481196248652783,1.9264666270245103,0,0.25671910764553335,0.5441212683365539,7.75064005565536,0.3880727868555694,0.3071239807163141,0.43825047777968246,0.3973757142892801,0.7612842581384015,0.3967855322325535,0.34286349249469833,6.067332207698596,0.44810904555150655,0.16401243164377066,0.5711540659040113,0.18280927962899973,0.23638409082862205,0.6470973513575207,0.9889623247660855,1.536312388071232,0.43513564344440275,0.791534763854955,1.0448725233518898,1.110953692344102,0.34503294360091963,3.7441434032856775,0.5851351716280824,0.6245381262786562,0.22155053651253379,3.854186423784484,0.2921208887301778,0.32578785227850443,0.6887044420671771,0.2998928509765786,1.2298296249395184,0.3294475349785747,0.21194713245493488,0.9898932608854056,0.1941183175674376,0.22508169356027147,0.2229002397819242,0.6870763288832915,1.625372564762687,0.15541476130976736,8.047446298701313,2.260117558846848,0.3155675354846318,1.9698262147195151,1.7485858787917834]\n",
            "\n"
          ]
        }
      ]
    },
    {
      "cell_type": "code",
      "source": [
        "# import matplotlib.pyplot as plt\n",
        "# q = [i[0] for i in qs_res]\n",
        "# x = [i[1] for i in qs_res]\n",
        "# y = [i[2] for i in qs_res]\n",
        "\n",
        "\n",
        "# plt.bar(x, y, tick_label = q,width = 0.8, color = ['red', 'green'])\n",
        "# plt.xlabel(\"query\")\n",
        "# plt.ylabel(\"duration\")\n",
        "# #plt.ylabel(\"average precision\")\n",
        "\n",
        "# plt.title(\"first test - durations\")\n",
        "\n",
        "# plt.show()\n",
        "\n",
        "\n",
        "save_test_list = qs_res\n",
        "print(save_test_list)"
      ],
      "metadata": {
        "colab": {
          "base_uri": "https://localhost:8080/"
        },
        "id": "Tl-yrKdRxEJC",
        "outputId": "7b2e7676-2057-425f-dfa5-f6100b7f409a"
      },
      "execution_count": 45,
      "outputs": [
        {
          "output_type": "stream",
          "name": "stdout",
          "text": [
            "[('python', 15.070565938949585, 1.0), ('data science', 17.99678111076355, 0.968), ('migraine', 7.277550458908081, 1.0), ('chocolate', 20.199448585510254, 0.955), ('how to make pasta', 3.704864263534546, 1.0), ('Does pasta have preservatives?', 3.7639801502227783, 0.2), ('how google works', 27.856329679489136, 0.946), ('what is information retrieval', 10.921855449676514, 0.989), ('NBA', 15.17752981185913, 1.0), ('yoga', 25.972076177597046, 1.0), ('how to not kill plants', 0.07571816444396973, None), ('masks', 6.999579906463623, 1.0), ('black friday', 23.65346097946167, 0.998), ('why do men have nipples', 0.09122037887573242, None), ('rubber duck', 4.815493106842041, 0.803), ('michelin', 8.729891777038574, 1.0), ('what to watch', 7.20874547958374, 1.0), ('best marvel movie', 19.271244525909424, 1.0), ('how tall is the eiffel tower', None, None), ('where does vanilla flavoring come from', None, None), ('best ice cream flavour', 15.673341512680054, 0.992), ('how to tie a tie', 10.267841577529907, 0.964), ('how to earn money online', 0.06855893135070801, None), ('what is critical race theory', 0.06590080261230469, None), ('what space movie was made in 1992', 15.954653978347778, 0.994), ('how to vote', 4.486636400222778, 1.0), ('google trends', 27.539368629455566, 0.396), ('dim sum', 0.13376450538635254, None), ('ted', 27.87491250038147, 1.0), ('fairy tale', 18.111235857009888, 1.0)]\n"
          ]
        }
      ]
    }
  ]
}